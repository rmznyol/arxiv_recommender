{
 "cells": [
  {
   "cell_type": "markdown",
   "metadata": {},
   "source": [
    "# We start by getting data from Arxiv\n",
    "### this includes the following steps\n",
    "- Download artilces with a query e.g. 'Differential Geometry'\n",
    "- Vectorize Primary categories, categories, abstracts, titles associated with the downloaded articles\n",
    "- store them in data folder along with their specified vectorizers"
   ]
  },
  {
   "cell_type": "markdown",
   "metadata": {},
   "source": [
    "## IMPORTANT NOTE: DO NOT RUN THE FOLLOWING UNLESS YOU NEED TO INSTALL NEW DATA"
   ]
  },
  {
   "cell_type": "code",
   "execution_count": 3,
   "metadata": {},
   "outputs": [
    {
     "name": "stderr",
     "output_type": "stream",
     "text": [
      "Saving Positive speed of pr ...: 100%|██████████| 20000/20000 [16:44<00:00, 19.90it/s]\n"
     ]
    },
    {
     "name": "stdout",
     "output_type": "stream",
     "text": [
      "Raw data installed @ ./data/recorded_articles.csv\n",
      "Vectorized Abstract data is successfully saved at @ data/Abstract_tfidf_sparse_matrix.pkl\n",
      "Vectorized Title data is successfully saved at @ data/Title_tfidf_sparse_matrix.pkl\n"
     ]
    }
   ],
   "source": [
    "from src.DataProcessor import ProcessData\n",
    "\n",
    "\n",
    "ProcessData('PDE', 20000)"
   ]
  },
  {
   "cell_type": "markdown",
   "metadata": {},
   "source": [
    "# Next we run the recommender engine and search:"
   ]
  },
  {
   "cell_type": "code",
   "execution_count": 1,
   "metadata": {},
   "outputs": [
    {
     "name": "stderr",
     "output_type": "stream",
     "text": [
      "Saving Multi-BERT for Embed ...: 100%|██████████| 5/5 [00:00<00:00, 12.36it/s]\n"
     ]
    },
    {
     "name": "stdout",
     "output_type": "stream",
     "text": [
      "5\n"
     ]
    },
    {
     "data": {
      "text/html": [
       "<div>\n",
       "<style scoped>\n",
       "    .dataframe tbody tr th:only-of-type {\n",
       "        vertical-align: middle;\n",
       "    }\n",
       "\n",
       "    .dataframe tbody tr th {\n",
       "        vertical-align: top;\n",
       "    }\n",
       "\n",
       "    .dataframe thead th {\n",
       "        text-align: right;\n",
       "    }\n",
       "</style>\n",
       "<table border=\"1\" class=\"dataframe\">\n",
       "  <thead>\n",
       "    <tr style=\"text-align: right;\">\n",
       "      <th></th>\n",
       "      <th>Title</th>\n",
       "      <th>Authors</th>\n",
       "      <th>Published</th>\n",
       "      <th>Abstract</th>\n",
       "      <th>Link</th>\n",
       "      <th>PrimaryCategory</th>\n",
       "      <th>Categories</th>\n",
       "      <th>Similarity Scores</th>\n",
       "    </tr>\n",
       "  </thead>\n",
       "  <tbody>\n",
       "    <tr>\n",
       "      <th>0</th>\n",
       "      <td>Local existence and non-explosion of solutions...</td>\n",
       "      <td>Michael Rockner, Rongchan Zhu, Xiangchan Zhu</td>\n",
       "      <td>2013-07-16 19:48:40+00:00</td>\n",
       "      <td>In this paper we prove the local existence and...</td>\n",
       "      <td>http://arxiv.org/pdf/1307.4392v1</td>\n",
       "      <td>math.PR</td>\n",
       "      <td>['math.PR', 'math.AP']</td>\n",
       "      <td>0.323205</td>\n",
       "    </tr>\n",
       "    <tr>\n",
       "      <th>1</th>\n",
       "      <td>Weak-strong uniqueness for fluid-rigid body in...</td>\n",
       "      <td>Nikolai V. Chemetov, Sarka Necasova, Boris Muha</td>\n",
       "      <td>2017-10-03 20:49:40+00:00</td>\n",
       "      <td>We consider a coupled PDE-ODE system describin...</td>\n",
       "      <td>http://arxiv.org/pdf/1710.01382v2</td>\n",
       "      <td>math.AP</td>\n",
       "      <td>['math.AP', '35Q30']</td>\n",
       "      <td>0.316557</td>\n",
       "    </tr>\n",
       "    <tr>\n",
       "      <th>2</th>\n",
       "      <td>Local existence of Strong solutions for a flui...</td>\n",
       "      <td>Sourav Mitra</td>\n",
       "      <td>2018-08-20 23:01:01+00:00</td>\n",
       "      <td>We are interested in studying a system couplin...</td>\n",
       "      <td>http://arxiv.org/pdf/1808.06716v1</td>\n",
       "      <td>math.AP</td>\n",
       "      <td>['math.AP']</td>\n",
       "      <td>0.306568</td>\n",
       "    </tr>\n",
       "    <tr>\n",
       "      <th>3</th>\n",
       "      <td>On the existence and the uniqueness of the sol...</td>\n",
       "      <td>Daniele Boffi, Lucia Gastaldi</td>\n",
       "      <td>2020-06-18 13:52:34+00:00</td>\n",
       "      <td>In this paper we consider the linearized versi...</td>\n",
       "      <td>http://arxiv.org/pdf/2006.10536v1</td>\n",
       "      <td>math.AP</td>\n",
       "      <td>['math.AP', '65N30, 65N12, 74F10']</td>\n",
       "      <td>0.304354</td>\n",
       "    </tr>\n",
       "    <tr>\n",
       "      <th>4</th>\n",
       "      <td>Stochastic 2D Navier-Stokes equations on time-...</td>\n",
       "      <td>Wei Wang, Jianliang Zhai, Tusheng Zhang</td>\n",
       "      <td>2021-05-28 03:19:18+00:00</td>\n",
       "      <td>We establish the existence and uniqueness of s...</td>\n",
       "      <td>http://arxiv.org/pdf/2105.13565v1</td>\n",
       "      <td>math.PR</td>\n",
       "      <td>['math.PR', 'math.AP']</td>\n",
       "      <td>0.294312</td>\n",
       "    </tr>\n",
       "  </tbody>\n",
       "</table>\n",
       "</div>"
      ],
      "text/plain": [
       "                                               Title  \\\n",
       "0  Local existence and non-explosion of solutions...   \n",
       "1  Weak-strong uniqueness for fluid-rigid body in...   \n",
       "2  Local existence of Strong solutions for a flui...   \n",
       "3  On the existence and the uniqueness of the sol...   \n",
       "4  Stochastic 2D Navier-Stokes equations on time-...   \n",
       "\n",
       "                                           Authors                  Published  \\\n",
       "0     Michael Rockner, Rongchan Zhu, Xiangchan Zhu  2013-07-16 19:48:40+00:00   \n",
       "1  Nikolai V. Chemetov, Sarka Necasova, Boris Muha  2017-10-03 20:49:40+00:00   \n",
       "2                                     Sourav Mitra  2018-08-20 23:01:01+00:00   \n",
       "3                    Daniele Boffi, Lucia Gastaldi  2020-06-18 13:52:34+00:00   \n",
       "4          Wei Wang, Jianliang Zhai, Tusheng Zhang  2021-05-28 03:19:18+00:00   \n",
       "\n",
       "                                            Abstract  \\\n",
       "0  In this paper we prove the local existence and...   \n",
       "1  We consider a coupled PDE-ODE system describin...   \n",
       "2  We are interested in studying a system couplin...   \n",
       "3  In this paper we consider the linearized versi...   \n",
       "4  We establish the existence and uniqueness of s...   \n",
       "\n",
       "                                Link PrimaryCategory  \\\n",
       "0   http://arxiv.org/pdf/1307.4392v1         math.PR   \n",
       "1  http://arxiv.org/pdf/1710.01382v2         math.AP   \n",
       "2  http://arxiv.org/pdf/1808.06716v1         math.AP   \n",
       "3  http://arxiv.org/pdf/2006.10536v1         math.AP   \n",
       "4  http://arxiv.org/pdf/2105.13565v1         math.PR   \n",
       "\n",
       "                           Categories  Similarity Scores  \n",
       "0              ['math.PR', 'math.AP']           0.323205  \n",
       "1                ['math.AP', '35Q30']           0.316557  \n",
       "2                         ['math.AP']           0.306568  \n",
       "3  ['math.AP', '65N30, 65N12, 74F10']           0.304354  \n",
       "4              ['math.PR', 'math.AP']           0.294312  "
      ]
     },
     "execution_count": 1,
     "metadata": {},
     "output_type": "execute_result"
    }
   ],
   "source": [
    "import src.recommender\n",
    "recommender_engine = src.recommender.ArxivRecommender()\n",
    "recommender_engine.recommend_to(\"Krutika Tawri\")"
   ]
  }
 ],
 "metadata": {
  "kernelspec": {
   "display_name": "arxiv_recommender_env",
   "language": "python",
   "name": "python3"
  },
  "language_info": {
   "codemirror_mode": {
    "name": "ipython",
    "version": 3
   },
   "file_extension": ".py",
   "mimetype": "text/x-python",
   "name": "python",
   "nbconvert_exporter": "python",
   "pygments_lexer": "ipython3",
   "version": "3.12.0"
  }
 },
 "nbformat": 4,
 "nbformat_minor": 2
}
